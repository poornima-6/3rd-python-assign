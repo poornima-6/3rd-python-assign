{
 "cells": [
  {
   "cell_type": "raw",
   "metadata": {},
   "source": [
    "Write a program that reads an integer from the user. Then your program should display a message indicating whether the integer is even or odd."
   ]
  },
  {
   "cell_type": "code",
   "execution_count": 8,
   "metadata": {},
   "outputs": [
    {
     "name": "stdout",
     "output_type": "stream",
     "text": [
      "Enter a number:45\n",
      "45 is an Odd number: \n"
     ]
    }
   ],
   "source": [
    "n = int(input (\"Enter a number:\"))\n",
    "if n%2:\n",
    "    print(\"{} is an Odd number: \".format(n))\n",
    "else:\n",
    "    print(\"{} is an Even number: \".format(n))\n",
    "    "
   ]
  },
  {
   "cell_type": "raw",
   "metadata": {},
   "source": [
    "Write a program that implements the conversion from human years to dog years described in the previous paragraph. \n",
    "Ensure that your program works correctly for conversions of less than two human years and for conversions of two \n",
    "or more human years.\n",
    "Your program should display an appropriate error message if the user enters a negative number."
   ]
  },
  {
   "cell_type": "code",
   "execution_count": 40,
   "metadata": {},
   "outputs": [
    {
     "name": "stdout",
     "output_type": "stream",
     "text": [
      "Enter human age : 56\n",
      "In Dog years: 9.0\n"
     ]
    }
   ],
   "source": [
    "import math\n",
    "human_age = int(input(\"Enter human age : \"))\n",
    "if human_age <= 0:\n",
    "    print (\"Error: Human age shouldn't be negative or zero\")\n",
    "elif (human_age <=15):\n",
    "    print (\"One year in Dog years\")\n",
    "else:\n",
    "    n = 1\n",
    "    x = human_age -15\n",
    "    if (x <=9):\n",
    "        print(\"two year old in Dog years\")\n",
    "    else:\n",
    "        x = x-9\n",
    "        n = n+math.floor(x/4)\n",
    "        n = n + (0.2*(x%4))\n",
    "        print (\"In Dog years: {}\".format(n))"
   ]
  },
  {
   "cell_type": "raw",
   "metadata": {},
   "source": [
    "Create a program that reads a letter of the alphabet from the user. If the user enters a, e, i, o or u then your program should display a message indicating that the entered letter is a vowel. If the user enters y then your program should display a message indicating that sometimes y is a vowel, and sometimes y is a consonant. Otherwise your program should display a message indicating that the letter is a consonant."
   ]
  },
  {
   "cell_type": "code",
   "execution_count": 52,
   "metadata": {},
   "outputs": [
    {
     "name": "stdout",
     "output_type": "stream",
     "text": [
      "enter a letter: y\n",
      "sometime y i a vowel, sometimes y is a consonant\n"
     ]
    }
   ],
   "source": [
    "letter = str(input(\"enter a letter: \").lower())\n",
    "vowels = [\"a\",\"e\",\"i\",\"o\",\"u\"]\n",
    "if letter in vowels:\n",
    "    print(\"you entered a vowel: {}\".format(letter))\n",
    "elif letter == \"y\":\n",
    "    print(\"sometime y i a vowel, sometimes y is a consonant\")\n",
    "else:\n",
    "        print(\"you entered a Consonant:{}\".format(letter))"
   ]
  },
  {
   "cell_type": "raw",
   "metadata": {},
   "source": [
    "Write a program that determines the name of a shape from its number of sides. Read the number of sides from the user and then report the appropriate name as part of a meaningful message. Your program should support shapes with anywhere from 3 up to (and including) 10 sides. If a number of sides outside of this range is entered then your program should display an appropriate error message"
   ]
  },
  {
   "cell_type": "code",
   "execution_count": 58,
   "metadata": {},
   "outputs": [
    {
     "name": "stdout",
     "output_type": "stream",
     "text": [
      "Enter the number of sides : 8\n",
      "The shape with 8 sides is Octagon\n"
     ]
    }
   ],
   "source": [
    "shapes = ['Triangle', 'Quadrilateral', 'Pentagon', 'Hexagon' , 'Heptagon', 'Octagon', ' Nonagon',' Decagon']\n",
    "\n",
    "sides = int(input(\"Enter the number of sides : \"))\n",
    "if sides in range(3,11):\n",
    "    print (\"The shape with {} sides is {}\".format(sides, shapes[sides-3]))\n",
    "else:\n",
    "    print (\"ERROR: enter the sides in range between 3 to 10\")\n",
    "    "
   ]
  },
  {
   "cell_type": "raw",
   "metadata": {},
   "source": [
    "The length of a month varies from 28 to 31 days. In this exercise you will create a program that reads the name of a month from the user as a string. Then your program should display the number of days in that month. Display “28 or 29 days” for February so that leap years are addressed"
   ]
  },
  {
   "cell_type": "code",
   "execution_count": 1,
   "metadata": {},
   "outputs": [
    {
     "name": "stdout",
     "output_type": "stream",
     "text": [
      "Enter any Month of the Year:june\n",
      "The june month has 30 days\n"
     ]
    }
   ],
   "source": [
    "\n",
    "months_31days = [\"januvary\",\"march\",\"may\",\"july\",\"august\",\"october\",\"december\"]\n",
    "month = str(input(\"Enter any Month of the Year:\").lower())\n",
    "if month in months_31days:\n",
    "    print(\"The {} month has 31 days\".format(month))\n",
    "elif month == \"february\":\n",
    "    print (\" The {} month has 28 or 29 days \".format(month))\n",
    "else:\n",
    "        print(\"The {} month has 30 days\".format(month))\n"
   ]
  },
  {
   "cell_type": "raw",
   "metadata": {},
   "source": [
    " The following table lists the sound level in decibels for several common noises.\n",
    "\n",
    "Noise Decibel\tlevel (dB)\n",
    "Jackhammer\t    130\n",
    "Gas lawnmower\t106\n",
    "Alarm clock\t    70\n",
    "Quiet room     \t40\n",
    "Write a program that reads a sound level in decibels from the user. If the user enters a decibel level that matches one of the noises in the table then your program should display a message containing only that noise. If the user enters a number of decibels between the noises listed then your program should display a message indicating which noises the level is between. Ensure that your program also generates reasonable output for a value smaller than the quietest noise in the table, and for a value larger than the loudest noise in the table.\n"
   ]
  },
  {
   "cell_type": "code",
   "execution_count": 8,
   "metadata": {},
   "outputs": [
    {
     "name": "stdout",
     "output_type": "stream",
     "text": [
      "Enter a sound level in decibel value : 72\n",
      "Entered decibel level is in between Alarm clock and Quiet room\n"
     ]
    }
   ],
   "source": [
    "sound_level = { 130 : 'Jackhammer' , 106 : 'Gas lawnmower' , 70 : 'Alarm clock' , 40 :'Quiet room' }\n",
    "x = int(input(\"Enter a sound level in decibel value : \"))\n",
    "if x in sound_level.keys():\n",
    "    print(\"Entered decibel level is for {}\".format(sound_level[x]))\n",
    "elif x > 130:\n",
    "    print (\"Entered decibel level is more than {} \".format(sound_level[130]))\n",
    "elif x < 40:\n",
    "    print (\"Entered decibel level is more than {} \".format(sound_level[40]))\n",
    "elif x > 106:\n",
    "     print (\"Entered decibel level is in between {} and {}\".format(sound_level[130],sound_level[106]))\n",
    "else:\n",
    "    print (\"Entered decibel level is in between {} and {}\".format(sound_level[70],sound_level[40]))"
   ]
  },
  {
   "cell_type": "raw",
   "metadata": {},
   "source": [
    "The following table lists an octave of music notes, beginning with middle C, along with their frequencies.\n",
    "\n",
    "Note Frequency (Hz)\n",
    "C4 - 261.63\n",
    "D4 - 293.66\n",
    "E4 - 329.63\n",
    "F4 - 349.23\n",
    "G4 - 392.00\n",
    "A4 - 440.00\n",
    "B4 - 493.88\n",
    "Begin by writing a program that reads the name of a note from the user and displays the note’s frequency. Your program should support all of the notes listed previously. Once you have your program working correctly for the notes listed previously you should add support for all of the notes from C0 to C8. While this could be done by adding many additional cases to your if statement, such a solution is cumbersome, inelegant and unacceptable for the purposes of this exercise. Instead, you should exploit the relationship between notes in adjacent octaves. In particular, the frequency of any note in octave n is half the frequency of the corresponding note in octave n+1n+1. By using this relationship, you should be able to add support for the additional notes without adding additional cases to your if statement. Hint: To complete this exercise you will need to extract individual characters from the two-character note name so that you can work with the letter and the octave number separately. Once you have separated the parts, compute the frequency of the note in the fourth octave using the data in the table above. Then divide the frequency by 24−x24−x, where xx is the octave number entered by the user. This will halve or double the frequency the correct number of times."
   ]
  },
  {
   "cell_type": "code",
   "execution_count": null,
   "metadata": {},
   "outputs": [],
   "source": []
  }
 ],
 "metadata": {
  "kernelspec": {
   "display_name": "Python 3",
   "language": "python",
   "name": "python3"
  },
  "language_info": {
   "codemirror_mode": {
    "name": "ipython",
    "version": 3
   },
   "file_extension": ".py",
   "mimetype": "text/x-python",
   "name": "python",
   "nbconvert_exporter": "python",
   "pygments_lexer": "ipython3",
   "version": "3.7.6"
  }
 },
 "nbformat": 4,
 "nbformat_minor": 4
}
